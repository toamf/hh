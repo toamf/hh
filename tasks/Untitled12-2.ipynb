{
  "nbformat": 4,
  "nbformat_minor": 0,
  "metadata": {
    "colab": {
      "provenance": []
    },
    "kernelspec": {
      "name": "python3",
      "display_name": "Python 3"
    },
    "language_info": {
      "name": "python"
    }
  },
  "cells": [
    {
      "cell_type": "markdown",
      "source": [
        "1. Upload data from data4.csv to pandas DataFrame and display the first 5 rows\n",
        "\n",
        "---\n",
        "\n"
      ],
      "metadata": {
        "id": "AFq2X31svRcr"
      }
    },
    {
      "cell_type": "code",
      "source": [
        "import pandas as pd\n",
        "\n",
        "df = pd.read_csv('/content/sample_data/data4.csv')\n",
        "print(df.head())\n"
      ],
      "metadata": {
        "colab": {
          "base_uri": "https://localhost:8080/"
        },
        "id": "cz5P0qpIsOUH",
        "outputId": "6ef88f02-277f-4621-da4f-a5ea7f8ed38c"
      },
      "execution_count": 35,
      "outputs": [
        {
          "output_type": "stream",
          "name": "stdout",
          "text": [
            "   year   month carrier       carrier_name airport  \\\n",
            "0  2020       9      9E  Endeavor Air Inc.     ABY   \n",
            "1  2020       9      9E  Endeavor Air Inc.     ACK   \n",
            "2  2020       9      9E  Endeavor Air Inc.     AEX   \n",
            "3  2020       9      9E  Endeavor Air Inc.     AGS   \n",
            "4  2020       9      9E  Endeavor Air Inc.     ALB   \n",
            "\n",
            "                                  airport_name  arr_flights  arr_del15  \\\n",
            "0       Albany, GA: Southwest Georgia Regional         60.0        3.0   \n",
            "1            Nantucket, MA: Nantucket Memorial          4.0        0.0   \n",
            "2     Alexandria, LA: Alexandria International         60.0        5.0   \n",
            "3  Augusta, GA: Augusta Regional at Bush Field        121.0        3.0   \n",
            "4             Albany, NY: Albany International         88.0        4.0   \n",
            "\n",
            "   carrier_ct   weather_ct  ...  late_aircraft_ct  arr_cancelled  \\\n",
            "0        1.00          0.0  ...               0.0            0.0   \n",
            "1        0.00          0.0  ...               0.0            0.0   \n",
            "2        4.84          0.0  ...               0.0            0.0   \n",
            "3        1.00          0.0  ...               1.0            0.0   \n",
            "4        2.94          0.0  ...               0.0            0.0   \n",
            "\n",
            "   arr_diverted   arr_delay   carrier_delay  weather_delay  nas_delay  \\\n",
            "0           0.0       131.0           100.0            0.0       31.0   \n",
            "1           0.0         0.0             0.0            0.0        0.0   \n",
            "2           1.0       206.0           199.0            0.0        7.0   \n",
            "3           0.0       130.0            87.0            0.0       24.0   \n",
            "4           0.0       169.0           151.0            0.0       18.0   \n",
            "\n",
            "   security_delay  late_aircraft_delay  Unnamed: 21  \n",
            "0             0.0                  0.0          NaN  \n",
            "1             0.0                  0.0          NaN  \n",
            "2             0.0                  0.0          NaN  \n",
            "3             0.0                 19.0          NaN  \n",
            "4             0.0                  0.0          NaN  \n",
            "\n",
            "[5 rows x 22 columns]\n"
          ]
        }
      ]
    },
    {
      "cell_type": "markdown",
      "source": [
        "2. Delete the last column and display the names of all columns"
      ],
      "metadata": {
        "id": "ezs2p4u7vjzq"
      }
    },
    {
      "cell_type": "code",
      "source": [
        "df = df.iloc[:, :-1]\n",
        "print(df.columns)\n"
      ],
      "metadata": {
        "colab": {
          "base_uri": "https://localhost:8080/"
        },
        "id": "YTmRtAmGsRxd",
        "outputId": "d85f2713-654f-486c-a5e5-d91b917dd713"
      },
      "execution_count": 34,
      "outputs": [
        {
          "output_type": "stream",
          "name": "stdout",
          "text": [
            "Index([], dtype='object')\n"
          ]
        }
      ]
    },
    {
      "cell_type": "markdown",
      "source": [
        "3. Calculate the frequency table [number of airports for each carrier] by carrier column (flight carrier company). Sort it in descending order by values"
      ],
      "metadata": {
        "id": "s7emoKzVvpUG"
      }
    },
    {
      "cell_type": "code",
      "source": [
        "carrier_counts = df['carrier'].value_counts().sort_values(ascending=False)\n",
        "print(carrier_counts)\n"
      ],
      "metadata": {
        "colab": {
          "base_uri": "https://localhost:8080/"
        },
        "id": "q6pqRytKsbCr",
        "outputId": "59a07f99-dc4a-4344-d7be-5b3a1cd436b0"
      },
      "execution_count": 18,
      "outputs": [
        {
          "output_type": "stream",
          "name": "stdout",
          "text": [
            "OO    226\n",
            "MQ    140\n",
            "G4    118\n",
            "DL    115\n",
            "AA     98\n",
            "YV     95\n",
            "9E     94\n",
            "F9     92\n",
            "WN     89\n",
            "OH     89\n",
            "UA     77\n",
            "YX     74\n",
            "AS     64\n",
            "B6     52\n",
            "NK     47\n",
            "EV     42\n",
            "HA     11\n",
            "Name: carrier, dtype: int64\n"
          ]
        }
      ]
    },
    {
      "cell_type": "markdown",
      "source": [
        "4. Calculate the number of cancelled arrivals (use 'are_cancelled') for each 'carrier. Sort the result in descending order (by values)"
      ],
      "metadata": {
        "id": "zpTispvFvuB2"
      }
    },
    {
      "cell_type": "code",
      "source": [
        "cancelled_counts = df.groupby('carrier')['arr_cancelled'].sum().sort_values(ascending=False)\n",
        "print(cancelled_counts)\n"
      ],
      "metadata": {
        "colab": {
          "base_uri": "https://localhost:8080/"
        },
        "id": "BAJsQogxsch-",
        "outputId": "94f2cb17-92ad-4964-86de-ab278d7e577f"
      },
      "execution_count": 19,
      "outputs": [
        {
          "output_type": "stream",
          "name": "stdout",
          "text": [
            "carrier\n",
            "WN    443.0\n",
            "OO    393.0\n",
            "AA    169.0\n",
            "OH    124.0\n",
            "YV    117.0\n",
            "MQ    105.0\n",
            "G4     80.0\n",
            "DL     76.0\n",
            "AS     61.0\n",
            "B6     58.0\n",
            "EV     54.0\n",
            "UA     53.0\n",
            "9E     46.0\n",
            "YX     15.0\n",
            "F9      8.0\n",
            "HA      3.0\n",
            "NK      0.0\n",
            "Name: arr_cancelled, dtype: float64\n"
          ]
        }
      ]
    },
    {
      "cell_type": "markdown",
      "source": [
        "5. Using the previous calculations from paragraphs 3-4, create a scatter plot (x-axis - the number of airports for each carrier; y-axis - the number of canceled flights for each carrier)."
      ],
      "metadata": {
        "id": "BuXvcY8yvz5Z"
      }
    },
    {
      "cell_type": "code",
      "source": [
        "import matplotlib.pyplot as plt\n",
        "\n",
        "plt.scatter(carrier_counts, cancelled_counts)\n",
        "plt.xlabel('Number of Airports per Carrier')\n",
        "plt.ylabel('Number of Cancelled Flights per Carrier')\n",
        "plt.show()\n"
      ],
      "metadata": {
        "colab": {
          "base_uri": "https://localhost:8080/",
          "height": 449
        },
        "id": "VunxU6MMsfv7",
        "outputId": "3a0feb99-ab72-434b-8dcf-4cfcf65c3664"
      },
      "execution_count": 20,
      "outputs": [
        {
          "output_type": "display_data",
          "data": {
            "text/plain": [
              "<Figure size 640x480 with 1 Axes>"
            ],
            "image/png": "[encoded data removed]"
          },
          "metadata": {}
        }
      ]
    },
    {
      "cell_type": "markdown",
      "source": [
        "6. The dataset contains 5 columns with several types of flight delays (measured in minutes), which are aggregated in the arr_delay column. Calculate the fractions of each type of delay (for the entire dataset) and create a pie chart."
      ],
      "metadata": {
        "id": "5aY1GMBQv4QC"
      }
    },
    {
      "cell_type": "code",
      "source": [
        "delay_columns = [' carrier_delay', 'weather_delay', 'nas_delay', 'security_delay', 'late_aircraft_delay']\n",
        "delays = df[delay_columns].sum()\n",
        "delays.plot(kind='pie')\n",
        "plt.show()\n"
      ],
      "metadata": {
        "colab": {
          "base_uri": "https://localhost:8080/",
          "height": 406
        },
        "id": "K8hi546UsihB",
        "outputId": "ac364255-afe2-42e0-8f7d-538ab6c7b1f7"
      },
      "execution_count": 25,
      "outputs": [
        {
          "output_type": "display_data",
          "data": {
            "text/plain": [
              "<Figure size 640x480 with 1 Axes>"
            ],
            "image/png": "[encoded data removed]"
          },
          "metadata": {}
        }
      ]
    },
    {
      "cell_type": "markdown",
      "source": [
        "7. Calculate the number of airports that are served by more than 2 carriers"
      ],
      "metadata": {
        "id": "Y7U4vD8wwALH"
      }
    },
    {
      "cell_type": "code",
      "source": [
        "carriers_per_airport = df.groupby('airport')['carrier'].nunique()\n",
        "airports_with_multiple_carriers = carriers_per_airport[carriers_per_airport > 2].count()\n",
        "print(airports_with_multiple_carriers)\n"
      ],
      "metadata": {
        "colab": {
          "base_uri": "https://localhost:8080/"
        },
        "id": "zCdvHIEzuZfH",
        "outputId": "79f01d32-457b-4cd6-f6d6-e357e72262fa"
      },
      "execution_count": 26,
      "outputs": [
        {
          "output_type": "stream",
          "name": "stdout",
          "text": [
            "177\n"
          ]
        }
      ]
    },
    {
      "cell_type": "markdown",
      "source": [
        "8. Find out the most common word that is used in airport names. Hint: Remove commas and colons; then separate by spaces"
      ],
      "metadata": {
        "id": "xISQKBPnwFgv"
      }
    },
    {
      "cell_type": "code",
      "source": [
        "import re\n",
        "from collections import Counter\n",
        "\n",
        "airport_names = df['airport_name']\n",
        "words = Counter(\" \".join(airport_names.str.replace('[,;]', '', regex=True)).split())\n",
        "most_common_word = words.most_common(1)\n",
        "print(most_common_word)\n"
      ],
      "metadata": {
        "colab": {
          "base_uri": "https://localhost:8080/"
        },
        "id": "7hDOHokpua49",
        "outputId": "58cd1273-ba41-4231-b390-7b73ac313014"
      },
      "execution_count": 28,
      "outputs": [
        {
          "output_type": "stream",
          "name": "stdout",
          "text": [
            "[('International', 982)]\n"
          ]
        }
      ]
    },
    {
      "cell_type": "markdown",
      "source": [
        "9. Calculate the average delay due to the weather (in hours) and the percentage of delay due to the weather in avr_delay for each carrier_name. Make one table sorted by carrier_name from A to Z."
      ],
      "metadata": {
        "id": "BubObRD3wMPv"
      }
    },
    {
      "cell_type": "code",
      "source": [
        "df['weather_delay_hours'] = df['weather_delay'] / 60\n",
        "mean_weather_delay = df.groupby('carrier_name')['weather_delay_hours'].mean()\n",
        "weather_delay_share = df.groupby('carrier_name').apply(lambda x: x['weather_delay'].sum() / x[' arr_delay'].sum())\n",
        "result_table = pd.DataFrame({'Mean Weather Delay (hours)': mean_weather_delay, 'Share of Weather Delay': weather_delay_share})\n",
        "result_table.sort_index(inplace=True)\n",
        "print(result_table)\n",
        " "
      ],
      "metadata": {
        "colab": {
          "base_uri": "https://localhost:8080/"
        },
        "id": "g7MNmy3wupuv",
        "outputId": "b36f89a6-14d6-4e2f-b264-1ff213d44070"
      },
      "execution_count": 31,
      "outputs": [
        {
          "output_type": "stream",
          "name": "stdout",
          "text": [
            "                         Mean Weather Delay (hours)  Share of Weather Delay\n",
            "carrier_name                                                               \n",
            "Alaska Airlines Inc.                       0.342708                0.052527\n",
            "Allegiant Air                              1.075424                0.162007\n",
            "American Airlines Inc.                     2.628401                0.078945\n",
            "Delta Air Lines Inc.                       1.143333                0.063624\n",
            "Endeavor Air Inc.                          0.317376                0.047657\n",
            "Envoy Air                                  1.549048                0.145842\n",
            "ExpressJet Airlines LLC                    0.039024                0.013176\n",
            "Frontier Airlines Inc.                     0.118659                0.030837\n",
            "Hawaiian Airlines Inc.                     0.000000                0.000000\n",
            "JetBlue Airways                            0.139744                0.027012\n",
            "Mesa Airlines Inc.                         1.780000                0.158210\n",
            "PSA Airlines Inc.                          0.529026                0.051438\n",
            "Republic Airline                           0.269820                0.034494\n",
            "SkyWest Airlines Inc.                      2.849853                0.154250\n",
            "Southwest Airlines Co.                     0.634457                0.026187\n",
            "Spirit Air Lines                           0.494681                0.048671\n",
            "United Air Lines Inc.                      1.470395                0.117003\n"
          ]
        }
      ]
    }
  ]
}